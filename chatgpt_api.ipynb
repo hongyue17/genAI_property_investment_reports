{
 "cells": [
  {
   "cell_type": "markdown",
   "id": "7f18ec20",
   "metadata": {},
   "source": [
    "Run the cell below if you have never install it."
   ]
  },
  {
   "cell_type": "code",
   "execution_count": 1,
   "id": "92499c84",
   "metadata": {},
   "outputs": [],
   "source": [
    "# !pip install openai==0.28\n",
    "# !pip install openai"
   ]
  },
  {
   "cell_type": "code",
   "execution_count": 2,
   "id": "5e4fc24c",
   "metadata": {},
   "outputs": [],
   "source": [
    "import pandas as pd\n",
    "import os\n",
    "import openai\n",
    "import requests\n",
    "import json"
   ]
  },
  {
   "cell_type": "code",
   "execution_count": 3,
   "id": "4bce999a",
   "metadata": {},
   "outputs": [],
   "source": [
    "df1 = pd.read_csv(\"leeds_council_planning_apps_centroids_stx_y.csv\")\n",
    "df2 = pd.read_csv(\"leeds_hackathon_additional_data_fields.csv\")"
   ]
  },
  {
   "cell_type": "code",
   "execution_count": 4,
   "id": "7d4169d3",
   "metadata": {
    "scrolled": true
   },
   "outputs": [],
   "source": [
    "#df = df.drop('mnb_end_date', axis=1)"
   ]
  },
  {
   "cell_type": "code",
   "execution_count": 5,
   "id": "e6e0a703",
   "metadata": {},
   "outputs": [],
   "source": [
    "# df = df.dropna()\n",
    "# rows_with_null = df[df.isnull().any(axis=1)]\n",
    "# rows_with_null"
   ]
  },
  {
   "cell_type": "code",
   "execution_count": 10,
   "id": "4bb506da",
   "metadata": {},
   "outputs": [
    {
     "data": {
      "text/html": [
       "<div>\n",
       "<style scoped>\n",
       "    .dataframe tbody tr th:only-of-type {\n",
       "        vertical-align: middle;\n",
       "    }\n",
       "\n",
       "    .dataframe tbody tr th {\n",
       "        vertical-align: top;\n",
       "    }\n",
       "\n",
       "    .dataframe thead th {\n",
       "        text-align: right;\n",
       "    }\n",
       "</style>\n",
       "<table border=\"1\" class=\"dataframe\">\n",
       "  <thead>\n",
       "    <tr style=\"text-align: right;\">\n",
       "      <th></th>\n",
       "      <th>id</th>\n",
       "      <th>planning_id</th>\n",
       "      <th>reference</th>\n",
       "      <th>authority</th>\n",
       "      <th>proposal</th>\n",
       "      <th>heading</th>\n",
       "      <th>category</th>\n",
       "      <th>value_max</th>\n",
       "      <th>number_dwellings</th>\n",
       "      <th>stage</th>\n",
       "      <th>update_date</th>\n",
       "      <th>site_raw_address</th>\n",
       "      <th>link</th>\n",
       "      <th>geom_from</th>\n",
       "      <th>centroid_geom</th>\n",
       "      <th>easting</th>\n",
       "      <th>northing</th>\n",
       "    </tr>\n",
       "  </thead>\n",
       "  <tbody>\n",
       "    <tr>\n",
       "      <th>0</th>\n",
       "      <td>4726464</td>\n",
       "      <td>15772391</td>\n",
       "      <td>23/07451/CLP</td>\n",
       "      <td>Leeds Council</td>\n",
       "      <td>Certificate of Proposed Lawful Development for...</td>\n",
       "      <td>Conversion to Dwelling</td>\n",
       "      <td>RESIDENTIAL</td>\n",
       "      <td>100.0</td>\n",
       "      <td>1.0</td>\n",
       "      <td>WITHDRAWN</td>\n",
       "      <td>2024-02-06 00:00:00.000</td>\n",
       "      <td>5 - 7 Recreation Place Holbeck Leeds LS11 0AN</td>\n",
       "      <td>https://publicaccess.leeds.gov.uk/online-appli...</td>\n",
       "      <td>postcode</td>\n",
       "      <td>POINT (429027.2335483082 431863.2733522415)</td>\n",
       "      <td>429027.233548</td>\n",
       "      <td>431863.273352</td>\n",
       "    </tr>\n",
       "    <tr>\n",
       "      <th>1</th>\n",
       "      <td>4726464</td>\n",
       "      <td>15772391</td>\n",
       "      <td>23/07451/CLP</td>\n",
       "      <td>Leeds Council</td>\n",
       "      <td>Certificate of Proposed Lawful Development for...</td>\n",
       "      <td>Conversion to Dwelling</td>\n",
       "      <td>RESIDENTIAL</td>\n",
       "      <td>100.0</td>\n",
       "      <td>1.0</td>\n",
       "      <td>WITHDRAWN</td>\n",
       "      <td>2024-02-06 00:00:00.000</td>\n",
       "      <td>5 - 7 Recreation Place Holbeck Leeds LS11 0AN</td>\n",
       "      <td>https://publicaccess.leeds.gov.uk/online-appli...</td>\n",
       "      <td>postcode</td>\n",
       "      <td>POINT (429027.2335483082 431863.2733522415)</td>\n",
       "      <td>429027.233548</td>\n",
       "      <td>431863.273352</td>\n",
       "    </tr>\n",
       "    <tr>\n",
       "      <th>2</th>\n",
       "      <td>4726461</td>\n",
       "      <td>15772299</td>\n",
       "      <td>23/07538/CLP</td>\n",
       "      <td>Leeds Council</td>\n",
       "      <td>Certificate of Proposed Lawful Development for...</td>\n",
       "      <td>Extension to Primary School</td>\n",
       "      <td>EDUCATION</td>\n",
       "      <td>100.0</td>\n",
       "      <td>NaN</td>\n",
       "      <td>DETAILED PLANS APPROVED</td>\n",
       "      <td>2024-02-06 00:00:00.000</td>\n",
       "      <td>Southroyd Primary School Littlemoor Crescent P...</td>\n",
       "      <td>https://publicaccess.leeds.gov.uk/online-appli...</td>\n",
       "      <td>postcode</td>\n",
       "      <td>POINT (422289.1438844915 432466.7482044691)</td>\n",
       "      <td>422289.143884</td>\n",
       "      <td>432466.748204</td>\n",
       "    </tr>\n",
       "    <tr>\n",
       "      <th>3</th>\n",
       "      <td>4726461</td>\n",
       "      <td>15772299</td>\n",
       "      <td>23/07538/CLP</td>\n",
       "      <td>Leeds Council</td>\n",
       "      <td>Certificate of Proposed Lawful Development for...</td>\n",
       "      <td>Extension to Primary School</td>\n",
       "      <td>EDUCATION</td>\n",
       "      <td>100.0</td>\n",
       "      <td>NaN</td>\n",
       "      <td>DETAILED PLANS APPROVED</td>\n",
       "      <td>2024-02-06 00:00:00.000</td>\n",
       "      <td>Southroyd Primary School Littlemoor Crescent P...</td>\n",
       "      <td>https://publicaccess.leeds.gov.uk/online-appli...</td>\n",
       "      <td>postcode</td>\n",
       "      <td>POINT (422289.1438844915 432466.7482044691)</td>\n",
       "      <td>422289.143884</td>\n",
       "      <td>432466.748204</td>\n",
       "    </tr>\n",
       "    <tr>\n",
       "      <th>4</th>\n",
       "      <td>4726462</td>\n",
       "      <td>15772324</td>\n",
       "      <td>23/07247/FU</td>\n",
       "      <td>Leeds Council</td>\n",
       "      <td>Demolition of existing garage; two storey side...</td>\n",
       "      <td>Two Storey Extension</td>\n",
       "      <td>EXTENSION/RENOVATION</td>\n",
       "      <td>100.0</td>\n",
       "      <td>NaN</td>\n",
       "      <td>DETAILED PLANS APPROVED</td>\n",
       "      <td>2024-02-06 00:00:00.000</td>\n",
       "      <td>1 The Beeches Pudsey LS28 7QS</td>\n",
       "      <td>https://publicaccess.leeds.gov.uk/online-appli...</td>\n",
       "      <td>postcode</td>\n",
       "      <td>POINT (420670.93662336015 433719.4311933177)</td>\n",
       "      <td>420670.936623</td>\n",
       "      <td>433719.431193</td>\n",
       "    </tr>\n",
       "  </tbody>\n",
       "</table>\n",
       "</div>"
      ],
      "text/plain": [
       "        id  planning_id     reference      authority  \\\n",
       "0  4726464     15772391  23/07451/CLP  Leeds Council   \n",
       "1  4726464     15772391  23/07451/CLP  Leeds Council   \n",
       "2  4726461     15772299  23/07538/CLP  Leeds Council   \n",
       "3  4726461     15772299  23/07538/CLP  Leeds Council   \n",
       "4  4726462     15772324   23/07247/FU  Leeds Council   \n",
       "\n",
       "                                            proposal  \\\n",
       "0  Certificate of Proposed Lawful Development for...   \n",
       "1  Certificate of Proposed Lawful Development for...   \n",
       "2  Certificate of Proposed Lawful Development for...   \n",
       "3  Certificate of Proposed Lawful Development for...   \n",
       "4  Demolition of existing garage; two storey side...   \n",
       "\n",
       "                       heading              category  value_max  \\\n",
       "0       Conversion to Dwelling           RESIDENTIAL      100.0   \n",
       "1       Conversion to Dwelling           RESIDENTIAL      100.0   \n",
       "2  Extension to Primary School             EDUCATION      100.0   \n",
       "3  Extension to Primary School             EDUCATION      100.0   \n",
       "4         Two Storey Extension  EXTENSION/RENOVATION      100.0   \n",
       "\n",
       "   number_dwellings                    stage              update_date  \\\n",
       "0               1.0                WITHDRAWN  2024-02-06 00:00:00.000   \n",
       "1               1.0                WITHDRAWN  2024-02-06 00:00:00.000   \n",
       "2               NaN  DETAILED PLANS APPROVED  2024-02-06 00:00:00.000   \n",
       "3               NaN  DETAILED PLANS APPROVED  2024-02-06 00:00:00.000   \n",
       "4               NaN  DETAILED PLANS APPROVED  2024-02-06 00:00:00.000   \n",
       "\n",
       "                                    site_raw_address  \\\n",
       "0      5 - 7 Recreation Place Holbeck Leeds LS11 0AN   \n",
       "1      5 - 7 Recreation Place Holbeck Leeds LS11 0AN   \n",
       "2  Southroyd Primary School Littlemoor Crescent P...   \n",
       "3  Southroyd Primary School Littlemoor Crescent P...   \n",
       "4                      1 The Beeches Pudsey LS28 7QS   \n",
       "\n",
       "                                                link geom_from  \\\n",
       "0  https://publicaccess.leeds.gov.uk/online-appli...  postcode   \n",
       "1  https://publicaccess.leeds.gov.uk/online-appli...  postcode   \n",
       "2  https://publicaccess.leeds.gov.uk/online-appli...  postcode   \n",
       "3  https://publicaccess.leeds.gov.uk/online-appli...  postcode   \n",
       "4  https://publicaccess.leeds.gov.uk/online-appli...  postcode   \n",
       "\n",
       "                                  centroid_geom        easting       northing  \n",
       "0   POINT (429027.2335483082 431863.2733522415)  429027.233548  431863.273352  \n",
       "1   POINT (429027.2335483082 431863.2733522415)  429027.233548  431863.273352  \n",
       "2   POINT (422289.1438844915 432466.7482044691)  422289.143884  432466.748204  \n",
       "3   POINT (422289.1438844915 432466.7482044691)  422289.143884  432466.748204  \n",
       "4  POINT (420670.93662336015 433719.4311933177)  420670.936623  433719.431193  "
      ]
     },
     "execution_count": 10,
     "metadata": {},
     "output_type": "execute_result"
    }
   ],
   "source": [
    "df2.head()"
   ]
  },
  {
   "cell_type": "code",
   "execution_count": 6,
   "id": "d2181165",
   "metadata": {},
   "outputs": [
    {
     "name": "stdout",
     "output_type": "stream",
     "text": [
      "\n",
      "\n",
      "1. Conversion to Dwelling \n",
      "2. Extension to Primary School \n",
      "3. Two Storey Extension of Dwelling \n",
      "4. Extension of Dwelling \n",
      "5. Dwelling \n",
      "6. Extension to Dwelling \n",
      "7. New Build \n",
      "8. Demolition \n",
      "9. Renovation \n",
      "10. Conversion to Commercial Use \n",
      "11. Extension to Commercial Use \n",
      "12. Commercial Use \n",
      "13. Extension to Industrial Use \n",
      "14. Industrial Use \n",
      "15. Extension to Educational Use \n",
      "16. Educational Use \n",
      "17. Extension to Hospital \n",
      "18. Hospital \n",
      "19. Extension to Leisure Use \n",
      "20. Leisure Use \n",
      "21. Extension to Office Use \n",
      "22. Office Use \n",
      "23. Extension to Retail Use \n",
      "24. Retail Use \n",
      " \n"
     ]
    }
   ],
   "source": [
    "openai.api_key = \"set OPENAI_API_KEY=your-api-key-here\"\n",
    "response = openai.Completion.create(\n",
    "  model=\"gpt-3.5-turbo-instruct\", # do not change this\n",
    "  \n",
    "  # ask a question here. it could be specific like the first example, or more general like the second example:\n",
    "  ## example 1:\n",
    "  #prompt = \"What are the constraints of living within \" + df + \"meters of a flood zone?\",\n",
    "  \n",
    "  ## example 2\n",
    "  prompt = \"Analyse this data: \" + str(df2) +\"And classify this 'proposal' column into different uses\",\n",
    "  \n",
    "  temperature=0.7, # temperature ranges from 0-2, with 2 being more random. do NOT change both temperature and top_p.\n",
    "  max_tokens=1000, #2048 is maximum allowed\n",
    "  top_p=1 #model considers the results of the tokens with top_p probability mass; 0.1 means only the tokens comprising the top 10% probability mass are considered\n",
    ")\n",
    "\n",
    "# print the answer to the question\n",
    "\n",
    "print(response[\"choices\"][0][\"text\"])\n",
    "## supplementary datasets ##\n",
    "# explore hmlr transactions: https://use-land-property-data.service.gov.uk/datasets/td"
   ]
  },
  {
   "cell_type": "code",
   "execution_count": 7,
   "id": "4e550acf",
   "metadata": {},
   "outputs": [
    {
     "name": "stdout",
     "output_type": "stream",
     "text": [
      "\n",
      "\n",
      "Residential:\n",
      "- Conversion to Dwelling\n",
      "- Two Storey Extension\n",
      "- One and Two Storey Extension\n",
      "- One Storey Extension\n"
     ]
    }
   ],
   "source": [
    "openai.api_key = \"set OPENAI_API_KEY=your-api-key-here\"\n",
    "\n",
    "# Extract the data from the 'heading' column as a list. This is just a demonstration; in actual use, data might need to be handled more appropriately.\n",
    "headings = df2['heading'].tolist()\n",
    "# To simplify the example, only the first few headings are selected for demonstration.\n",
    "sample_headings = headings[:10]\n",
    "formatted_headings = \"\\\\n\".join(sample_headings) # Format the heading list as a string\n",
    "\n",
    "response = openai.Completion.create(\n",
    "    model=\"gpt-3.5-turbo-instruct\",  # Use the specified model\n",
    "    prompt=f\"Please classify the following headings into categories such as Residential, Commercial, Industrial, or Other:\\\\n{formatted_headings}\",\n",
    "    temperature=0.7,\n",
    "    max_tokens=1000,\n",
    "    top_p=1\n",
    ")\n",
    "\n",
    "print(response.choices[0].text)"
   ]
  },
  {
   "cell_type": "markdown",
   "id": "a28f219d",
   "metadata": {},
   "source": [
    "#### Classify and summarize the proposals for planning applications"
   ]
  },
  {
   "cell_type": "code",
   "execution_count": 8,
   "id": "7eefa224",
   "metadata": {},
   "outputs": [
    {
     "name": "stdout",
     "output_type": "stream",
     "text": [
      "\n",
      "\n",
      "15772391: Residential - This proposal involves changing the use of a retail unit to a dwelling house, indicating that it will be used for residential purposes.\n",
      "\n",
      "15772299: Other - This proposal involves the construction of a teaching block, which does not fit into the categories of residential, commercial, or industrial.\n",
      "\n",
      "15772324: Residential - This proposal involves the demolition of a garage and the construction of a two storey side extension and front gable extension, indicating that it will be used for residential purposes.\n",
      "\n",
      "15772361: Residential - This proposal involves the construction of a two storey and single storey side extension, indicating that it will be used for residential purposes.\n",
      "\n",
      "15772442: Residential - This proposal involves the construction of a single storey rear extension, indicating that it will be used for residential purposes.\n"
     ]
    }
   ],
   "source": [
    "# Extract planning_id and proposal for the first 10 proposals as examples\n",
    "sample_proposals = df2[['planning_id', 'proposal']].head(10)\n",
    "\n",
    "# Convert the list of proposals into a formatted string understandable by the model, using planning_id for identification\n",
    "formatted_proposals = \"\\n\".join([f\"{row['planning_id']}: {row['proposal']}\" for index, row in sample_proposals.iterrows()])\n",
    "\n",
    "# Construct the model prompt\n",
    "prompt = f\"Given the following list of planning proposals, classify each into categories such as Residential, Commercial, Industrial, or Other. Provide a brief explanation for each classification.\\n\\n{formatted_proposals}\"\n",
    "\n",
    "response = openai.Completion.create(\n",
    "    model=\"gpt-3.5-turbo-instruct\",  # Specify the model\n",
    "    prompt=prompt,\n",
    "    temperature=0,  # Adjust the temperature for more reliable answers\n",
    "    max_tokens=500,  # Adjust the maximum number of tokens as needed\n",
    "    top_p=1.0\n",
    ")\n",
    "\n",
    "# Print the model's classification suggestions\n",
    "print(response.choices[0].text)"
   ]
  },
  {
   "cell_type": "markdown",
   "id": "d7e21f9e",
   "metadata": {},
   "source": [
    "<br>\n",
    "<br>"
   ]
  },
  {
   "cell_type": "markdown",
   "id": "73402639",
   "metadata": {},
   "source": [
    "#### using `planning_id`, `proposal`, `category`, `heading`to summarize the planning apllication"
   ]
  },
  {
   "cell_type": "code",
   "execution_count": 11,
   "id": "60b14246",
   "metadata": {},
   "outputs": [
    {
     "name": "stdout",
     "output_type": "stream",
     "text": [
      "\n",
      "\n",
      "ID 15772391: Proposal - Certificate of Proposed Lawful Development for change of use from retail unit to dwelling house, Category - RESIDENTIAL, Heading - Conversion to Dwelling\n",
      "Intention and Scope: The proposal is to change the use of a retail unit to a dwelling house. This would involve converting the existing space into a residential living space.\n",
      "Category: Residential\n",
      "Heading: Conversion to Dwelling\n",
      "\n",
      "ID 15772299: Proposal - Certificate of Proposed Lawful Development for a replacement detached single storey teaching block to front with timber side terrace, Category - EDUCATION, Heading - Extension to Primary School\n",
      "Intention and Scope: The proposal is to replace an existing teaching block with a new detached single storey building, including a timber side terrace. This would provide additional space for educational purposes at a primary school.\n",
      "Category: Education\n",
      "Heading: Extension to Primary School\n",
      "\n",
      "ID 15772324: Proposal - Demolition of existing garage; two storey side extension; front gable extension, Category - EXTENSION/RENOVATION, Heading - Two Storey Extension\n",
      "Intention and Scope: The proposal is to demolish an existing garage and construct a two storey side extension and a front gable extension. This would expand the living space of the property.\n",
      "Category: Extension/Renovation\n",
      "Heading: Two Storey Extension\n",
      "\n",
      "ID 15772361: Proposal - Part two storey part single storey side extension, with steps to rear; demolition\n"
     ]
    }
   ],
   "source": [
    "# Extract 'planning_id', 'proposal', and 'category' for the first 10 proposals as examples\n",
    "sample_data = df2[['planning_id', 'proposal', 'category', 'heading']].head(10)\n",
    "\n",
    "# Format the list of proposals for the model, including 'planning_id' for identification\n",
    "formatted_data = \"\\n\".join([f\"ID {row['planning_id']}: Proposal - {row['proposal']}, Category - {row['category']}, Heading - {row['heading']}\" for index, row in sample_data.iterrows()])\n",
    "\n",
    "# Construct the model prompt to include summarization of the 'proposal', classification into 'category', and consideration of the 'heading'\n",
    "prompt = f\"Given the following details of planning applications, summarize the intention and scope of each proposal based on its description, classify them into categories like Residential, Commercial, Industrial, or Other, and use the heading to provide context for each application.\\n\\n{formatted_data}\"\n",
    "\n",
    "# Call the API with the prompt to get summarizations and classifications\n",
    "response = openai.Completion.create(\n",
    "    model=\"gpt-3.5-turbo-instruct\",\n",
    "    prompt=prompt,\n",
    "    temperature=0,  # Set to 0 for deterministic output\n",
    "    max_tokens=300,  # Increased to allow space for summaries\n",
    "    top_p=1.0\n",
    ")\n",
    "\n",
    "# Print the model's summarizations and category classifications\n",
    "print(response.choices[0].text)"
   ]
  },
  {
   "cell_type": "markdown",
   "id": "75b64478",
   "metadata": {},
   "source": [
    "#### Classify the `proposal` column"
   ]
  },
  {
   "cell_type": "code",
   "execution_count": 12,
   "id": "b6719a93",
   "metadata": {},
   "outputs": [
    {
     "name": "stdout",
     "output_type": "stream",
     "text": [
      "\n",
      "\n",
      "\n",
      "The 'proposal' column can be classified into different uses based on the type of development proposed. Some possible categories could include:\n",
      "\n",
      "1. Residential: This category would include proposals for new dwellings, conversions, extensions, and renovations of residential properties.\n",
      "\n",
      "2. Commercial: This category would include proposals for new commercial buildings, such as offices, retail spaces, and industrial units.\n",
      "\n",
      "3. Education: This category would include proposals for new schools, extensions to existing schools, and other educational facilities.\n",
      "\n",
      "4. Leisure and Recreation: This category would include proposals for new leisure facilities, such as sports centers, gyms, and entertainment venues.\n",
      "\n",
      "5. Infrastructure: This category would include proposals for new infrastructure projects, such as roads, bridges, and utilities.\n",
      "\n",
      "6. Public Services: This category would include proposals for new public service buildings, such as hospitals, libraries, and government offices.\n",
      "\n",
      "7. Mixed Use: This category would include proposals for developments that combine multiple uses, such as residential and commercial buildings.\n",
      "\n",
      "8. Other: This category would include proposals that do not fit into any of the above categories, such as agricultural developments, religious buildings, and community facilities.\n"
     ]
    }
   ],
   "source": [
    "response = openai.Completion.create(\n",
    "  model=\"gpt-3.5-turbo-instruct\", # do not change this\n",
    "  \n",
    "  prompt = \"Analyse this data: \" + str(df2) +\"And classify this 'proposal' column into different uses\",\n",
    "  \n",
    "  temperature=0, # temperature ranges from 0-2, with 2 being more random. do NOT change both temperature and top_p.\n",
    "  max_tokens=1000, #2048 is maximum allowed\n",
    "  top_p=1 #model considers the results of the tokens with top_p probability mass; 0.1 means only the tokens comprising the top 10% probability mass are considered\n",
    ")\n",
    "\n",
    "# print the answer to the question\n",
    "\n",
    "print(response[\"choices\"][0][\"text\"])"
   ]
  },
  {
   "cell_type": "markdown",
   "id": "347c4f53",
   "metadata": {},
   "source": [
    "#### Classify the `heading` column"
   ]
  },
  {
   "cell_type": "code",
   "execution_count": 13,
   "id": "76b89b04",
   "metadata": {},
   "outputs": [
    {
     "name": "stdout",
     "output_type": "stream",
     "text": [
      "\n",
      "\n",
      "The 'heading' column can be classified into the following categories based on the information provided:\n",
      "\n",
      "1. Conversion/renovation: This category includes headings such as 'Conversion to Dwelling' and 'Two Storey Extension', which indicate that the proposed development involves converting an existing structure or making changes to an existing building.\n",
      "\n",
      "2. New build: This category includes headings such as 'Dwelling' and 'New Build', which indicate that the proposed development involves the construction of a new building.\n",
      "\n",
      "3. Extension: This category includes headings such as 'One and Two Storey Extension' and 'Loft Conversion', which indicate that the proposed development involves extending an existing building.\n",
      "\n",
      "4. Education: This category includes headings such as 'Extension to Primary School' and 'School Development', which indicate that the proposed development involves building or expanding educational facilities.\n",
      "\n",
      "5. Residential: This category includes headings such as 'Conversion to Dwelling' and 'New Build', which indicate that the proposed development involves building or converting residential properties.\n",
      "\n",
      "6. Commercial: This category includes headings such as 'Change of Use' and 'Retail Unit', which indicate that the proposed development involves commercial activities.\n",
      "\n",
      "7. Industrial: This category includes headings such as 'Industrial Unit' and 'Warehouse', which indicate that the proposed development involves building or expanding industrial facilities.\n",
      "\n",
      "8. Leisure: This category includes headings such as 'Leisure Centre' and 'Gym', which indicate that the proposed development involves building or expanding leisure facilities.\n",
      "\n",
      "9. Healthcare: This category includes headings such as 'Medical Centre' and 'Care Home', which indicate that the proposed development involves building or expanding healthcare facilities.\n",
      "\n",
      "10. Public Services: This category includes headings such as 'Community Centre' and 'Library', which indicate that the proposed development involves building or expanding public service facilities.\n"
     ]
    }
   ],
   "source": [
    "response = openai.Completion.create(\n",
    "  model=\"gpt-3.5-turbo-instruct\", # do not change this\n",
    "  \n",
    "  prompt = \"Analyse this data: \" + str(df2) +\"And classify this 'heading' column into different uses\",\n",
    "  \n",
    "  temperature=0.5, # temperature ranges from 0-2, with 2 being more random. do NOT change both temperature and top_p.\n",
    "  max_tokens=1000, #2048 is maximum allowed\n",
    "  top_p=1 #model considers the results of the tokens with top_p probability mass; 0.1 means only the tokens comprising the top 10% probability mass are considered\n",
    ")\n",
    "\n",
    "# print the answer to the question\n",
    "\n",
    "print(response[\"choices\"][0][\"text\"])"
   ]
  },
  {
   "cell_type": "markdown",
   "id": "22ae15c5",
   "metadata": {},
   "source": [
    "#### Summarize the overall trend of planning applications"
   ]
  },
  {
   "cell_type": "code",
   "execution_count": 14,
   "id": "ab05fde6",
   "metadata": {},
   "outputs": [
    {
     "name": "stdout",
     "output_type": "stream",
     "text": [
      " in Leeds\n",
      "\n",
      "The overall trend of planning applications in Leeds is that there has been a steady increase in the number of applications over the years. From 2024-02-06, there were 28871 planning applications submitted to Leeds Council. This is a significant increase from previous years, indicating a growing demand for development and construction in the city. The majority of applications are for residential projects, followed by education and extension/renovation projects. The most common stage for applications is \"detailed plans approved,\" indicating that most projects have been approved by the council. There is also a mix of new build and renovation projects, with a maximum value of 200 for new build projects and 100 for renovation projects. The data also shows that there is a mix of single and multiple dwelling projects, with the majority being single dwellings. Overall, the trend suggests a growing and diverse demand for development in Leeds.\n"
     ]
    }
   ],
   "source": [
    "response = openai.Completion.create(\n",
    "  model=\"gpt-3.5-turbo-instruct\", # do not change this\n",
    "\n",
    "  prompt = \"Analyse this data: \" + str(df2) + \"Summarize the overall trend of planning applications\",\n",
    "  \n",
    "  temperature=0.5, # temperature ranges from 0-2, with 2 being more random. do NOT change both temperature and top_p.\n",
    "  max_tokens=1000, #2048 is maximum allowed\n",
    "  top_p=1 #model considers the results of the tokens with top_p probability mass; 0.1 means only the tokens comprising the top 10% probability mass are considered\n",
    ")\n",
    "\n",
    "# print the answer to the question\n",
    "\n",
    "print(response[\"choices\"][0][\"text\"])"
   ]
  },
  {
   "cell_type": "code",
   "execution_count": 16,
   "id": "b811501e",
   "metadata": {},
   "outputs": [
    {
     "name": "stdout",
     "output_type": "stream",
     "text": [
      "\n",
      "\n",
      "The data provided contains information on 28,871 planning applications submitted to Leeds Council. Of these, 16,255 (56.3%) are classified as residential, with a majority (10,912 or 67.2%) being for extensions or renovations.\n",
      "\n",
      "The average maximum value of these residential applications is 100, with a range of 100 to 200. The average number of dwellings proposed in these applications is 1, with a range of 1 to 6.\n",
      "\n",
      "The most common authority for these applications is Leeds Council, accounting for all 16,255 residential applications. The most common stage for these applications is \"detailed plans approved\", accounting for 11,228 (69.1%) of the residential applications.\n",
      "\n",
      "The most common category for these applications is \"extension/renovation\", accounting for 10,912 (67.2%) of the residential applications. The most common proposal for these applications is \"certificate of proposed lawful development\", accounting for 7,226 (44.4%) of the residential applications.\n",
      "\n",
      "The most common heading for these applications is \"conversion to dwelling\", accounting for 3,717 (22.9%) of the residential applications. The most common update date for these applications is February 6, 2024, accounting for all 16,255 residential applications.\n",
      "\n",
      "The most common site raw address for these applications is \"not provided\", accounting for 16,255 (100%) of the residential applications. The most common link for these applications is \"not provided\", accounting for 16,255 (100%) of the residential applications.\n",
      "\n",
      "The most common geom_from for these applications is \"postcode\", accounting for 16,255 (100%) of the residential applications. The most common centroid_geom for these applications is \"not provided\", accounting for 16,255 (100%) of the residential applications.\n",
      "\n",
      "The most common easting and northing for these applications is \"not provided\", accounting for 16,255 (100%) of the residential applications.\n"
     ]
    }
   ],
   "source": [
    "response = openai.Completion.create(\n",
    "  model=\"gpt-3.5-turbo-instruct\", # do not change this\n",
    "\n",
    "  prompt = \"Analyse this data: \" + str(df2) + \"Identify all residential planning applications and summarize their key features.\",\n",
    "  \n",
    "  temperature=0.5, # temperature ranges from 0-2, with 2 being more random. do NOT change both temperature and top_p.\n",
    "  max_tokens=500, #2048 is maximum allowed\n",
    "  top_p=1 #model considers the results of the tokens with top_p probability mass; 0.1 means only the tokens comprising the top 10% probability mass are considered\n",
    ")\n",
    "\n",
    "# print the answer to the question\n",
    "\n",
    "print(response[\"choices\"][0][\"text\"])"
   ]
  },
  {
   "cell_type": "markdown",
   "id": "42a9111c",
   "metadata": {},
   "source": [
    "<br>\n",
    "<br>\n",
    "<br>"
   ]
  },
  {
   "cell_type": "markdown",
   "id": "04d6fa90",
   "metadata": {},
   "source": [
    "## Planning Applications within a 250m Radius of Location 1"
   ]
  },
  {
   "cell_type": "code",
   "execution_count": 3,
   "id": "5b6c4dea",
   "metadata": {},
   "outputs": [],
   "source": [
    "df3 = pd.read_csv('loc1_250m2.csv')"
   ]
  },
  {
   "cell_type": "code",
   "execution_count": 6,
   "id": "e1a75055",
   "metadata": {},
   "outputs": [
    {
     "data": {
      "text/html": [
       "<div>\n",
       "<style scoped>\n",
       "    .dataframe tbody tr th:only-of-type {\n",
       "        vertical-align: middle;\n",
       "    }\n",
       "\n",
       "    .dataframe tbody tr th {\n",
       "        vertical-align: top;\n",
       "    }\n",
       "\n",
       "    .dataframe thead th {\n",
       "        text-align: right;\n",
       "    }\n",
       "</style>\n",
       "<table border=\"1\" class=\"dataframe\">\n",
       "  <thead>\n",
       "    <tr style=\"text-align: right;\">\n",
       "      <th></th>\n",
       "      <th>id</th>\n",
       "      <th>planning_id</th>\n",
       "      <th>authority</th>\n",
       "      <th>proposal</th>\n",
       "      <th>heading</th>\n",
       "      <th>category</th>\n",
       "      <th>value_max</th>\n",
       "      <th>stage</th>\n",
       "      <th>update_date</th>\n",
       "      <th>site_raw_address</th>\n",
       "      <th>imported_at</th>\n",
       "      <th>distance</th>\n",
       "    </tr>\n",
       "  </thead>\n",
       "  <tbody>\n",
       "    <tr>\n",
       "      <th>0</th>\n",
       "      <td>4714806</td>\n",
       "      <td>15734308</td>\n",
       "      <td>Leeds Council</td>\n",
       "      <td>Change of use from offices (Class E(g) to acco...</td>\n",
       "      <td>Change of use from offices (Class E(g...</td>\n",
       "      <td>OTHER</td>\n",
       "      <td>100.0</td>\n",
       "      <td>DETAILED PLANS APPROVED</td>\n",
       "      <td>2024-01-31 00:00:00.000</td>\n",
       "      <td>1 Wellington Place Leeds LS1 4AP</td>\n",
       "      <td>2024-02-02 04:09:21.220 +0000</td>\n",
       "      <td>194.626639</td>\n",
       "    </tr>\n",
       "    <tr>\n",
       "      <th>1</th>\n",
       "      <td>4714806</td>\n",
       "      <td>15734308</td>\n",
       "      <td>Leeds Council</td>\n",
       "      <td>Change of use from offices (Class E(g) to acco...</td>\n",
       "      <td>Conversion to Accountancy Training Facuility</td>\n",
       "      <td>EDUCATION</td>\n",
       "      <td>100.0</td>\n",
       "      <td>DETAILED PLANS APPROVED</td>\n",
       "      <td>2024-01-31 00:00:00.000</td>\n",
       "      <td>1 Wellington Place Leeds LS1 4AP</td>\n",
       "      <td>2024-02-02 04:09:21.220 +0000</td>\n",
       "      <td>194.626639</td>\n",
       "    </tr>\n",
       "    <tr>\n",
       "      <th>2</th>\n",
       "      <td>4764288</td>\n",
       "      <td>15825085</td>\n",
       "      <td>Leeds Council</td>\n",
       "      <td>Enabling works associated with office developm...</td>\n",
       "      <td>Office</td>\n",
       "      <td>COMMERCIAL</td>\n",
       "      <td>100.0</td>\n",
       "      <td>DETAILED PLANS SUBMITTED</td>\n",
       "      <td>2024-03-06 00:00:00.000</td>\n",
       "      <td>9 Wellington Place Leeds LS1 4AP</td>\n",
       "      <td>2024-02-29 03:47:06.994 +0000</td>\n",
       "      <td>194.626639</td>\n",
       "    </tr>\n",
       "    <tr>\n",
       "      <th>3</th>\n",
       "      <td>4183586</td>\n",
       "      <td>13348868</td>\n",
       "      <td>Leeds Council</td>\n",
       "      <td>Change of use of office to six apartments</td>\n",
       "      <td>Conversion to 6 Apartments</td>\n",
       "      <td>RESIDENTIAL</td>\n",
       "      <td>400.0</td>\n",
       "      <td>WITHDRAWN</td>\n",
       "      <td>2018-06-27 23:00:00.000</td>\n",
       "      <td>Part Ground Floor Riverside West Whitehall Roa...</td>\n",
       "      <td>2023-04-04 01:43:51.735 +0100</td>\n",
       "      <td>7.634203</td>\n",
       "    </tr>\n",
       "    <tr>\n",
       "      <th>4</th>\n",
       "      <td>2756829</td>\n",
       "      <td>14063967</td>\n",
       "      <td>Leeds Council</td>\n",
       "      <td>Application for enabling works to facilitate t...</td>\n",
       "      <td>Demolition</td>\n",
       "      <td>OTHER</td>\n",
       "      <td>100.0</td>\n",
       "      <td>DETAILED PLANS SUBMITTED</td>\n",
       "      <td>2019-12-16 00:00:00.000</td>\n",
       "      <td>Land At Whitehall Road And Globe Road Leeds LS...</td>\n",
       "      <td>2023-03-23 14:13:20.390 +0000</td>\n",
       "      <td>229.220011</td>\n",
       "    </tr>\n",
       "  </tbody>\n",
       "</table>\n",
       "</div>"
      ],
      "text/plain": [
       "        id  planning_id      authority  \\\n",
       "0  4714806     15734308  Leeds Council   \n",
       "1  4714806     15734308  Leeds Council   \n",
       "2  4764288     15825085  Leeds Council   \n",
       "3  4183586     13348868  Leeds Council   \n",
       "4  2756829     14063967  Leeds Council   \n",
       "\n",
       "                                            proposal  \\\n",
       "0  Change of use from offices (Class E(g) to acco...   \n",
       "1  Change of use from offices (Class E(g) to acco...   \n",
       "2  Enabling works associated with office developm...   \n",
       "3          Change of use of office to six apartments   \n",
       "4  Application for enabling works to facilitate t...   \n",
       "\n",
       "                                        heading     category  value_max  \\\n",
       "0      Change of use from offices (Class E(g...        OTHER      100.0   \n",
       "1  Conversion to Accountancy Training Facuility    EDUCATION      100.0   \n",
       "2                                        Office   COMMERCIAL      100.0   \n",
       "3                    Conversion to 6 Apartments  RESIDENTIAL      400.0   \n",
       "4                                    Demolition        OTHER      100.0   \n",
       "\n",
       "                      stage              update_date  \\\n",
       "0   DETAILED PLANS APPROVED  2024-01-31 00:00:00.000   \n",
       "1   DETAILED PLANS APPROVED  2024-01-31 00:00:00.000   \n",
       "2  DETAILED PLANS SUBMITTED  2024-03-06 00:00:00.000   \n",
       "3                 WITHDRAWN  2018-06-27 23:00:00.000   \n",
       "4  DETAILED PLANS SUBMITTED  2019-12-16 00:00:00.000   \n",
       "\n",
       "                                    site_raw_address  \\\n",
       "0                   1 Wellington Place Leeds LS1 4AP   \n",
       "1                   1 Wellington Place Leeds LS1 4AP   \n",
       "2                   9 Wellington Place Leeds LS1 4AP   \n",
       "3  Part Ground Floor Riverside West Whitehall Roa...   \n",
       "4  Land At Whitehall Road And Globe Road Leeds LS...   \n",
       "\n",
       "                     imported_at    distance  \n",
       "0  2024-02-02 04:09:21.220 +0000  194.626639  \n",
       "1  2024-02-02 04:09:21.220 +0000  194.626639  \n",
       "2  2024-02-29 03:47:06.994 +0000  194.626639  \n",
       "3  2023-04-04 01:43:51.735 +0100    7.634203  \n",
       "4  2023-03-23 14:13:20.390 +0000  229.220011  "
      ]
     },
     "execution_count": 6,
     "metadata": {},
     "output_type": "execute_result"
    }
   ],
   "source": [
    "# Select specific columns\n",
    "df3_selected = df3.loc[:, ['id', 'planning_id', 'authority', 'proposal', 'heading', 'category', 'value_max', \n",
    "                           'stage', 'update_date', 'site_raw_address', 'imported_at', 'distance']]\n",
    "\n",
    "df3_selected.head()"
   ]
  },
  {
   "cell_type": "code",
   "execution_count": 7,
   "id": "7c47b38e",
   "metadata": {},
   "outputs": [],
   "source": [
    "# Convert DataFrame to string\n",
    "df3_str = df3_selected.to_string(index=False)"
   ]
  },
  {
   "cell_type": "markdown",
   "id": "80be68d3",
   "metadata": {},
   "source": [
    "#### 1. Understanding the Overall Trend of Planning Applications  \n",
    "⟶ “Summarize the overall trend of planning applications”"
   ]
  },
  {
   "cell_type": "code",
   "execution_count": 19,
   "id": "f5146534",
   "metadata": {},
   "outputs": [
    {
     "name": "stdout",
     "output_type": "stream",
     "text": [
      "The overall trend of planning applications is that there has been an increase in applications for development projects in Leeds. This can be seen in the increasing number of applications over the years, with a peak in 2023. The majority of these applications are for mixed-use developments, commercial developments, and residential conversions. There is also a trend towards larger developments, with higher values and more detailed plans being submitted. The stage of the applications also indicates that many of these developments have been approved and are in the detailed planning stage. This trend suggests that there is a growing interest in development and investment in Leeds, and the city is experiencing significant growth and development.\n"
     ]
    }
   ],
   "source": [
    "response = openai.Completion.create(\n",
    "  model=\"gpt-3.5-turbo-instruct\", # do not change this\n",
    "  \n",
    "  # Create prompt\n",
    "  prompt = \"Summarize the overall trend of planning applications based on the following data:\\n\" + df3_str + \"\\n\\n\",\n",
    "    \n",
    "  temperature=0.5, # temperature ranges from 0-2, with 2 being more random. do NOT change both temperature and top_p.\n",
    "  max_tokens=200, #2048 is maximum allowed\n",
    "  top_p=1 #model considers the results of the tokens with top_p probability mass; 0.1 means only the tokens comprising the top 10% probability mass are considered\n",
    ")\n",
    "\n",
    "# print the answer to the question\n",
    "print(response[\"choices\"][0][\"text\"])"
   ]
  },
  {
   "cell_type": "code",
   "execution_count": 9,
   "id": "0d48ddc4",
   "metadata": {},
   "outputs": [
    {
     "name": "stdout",
     "output_type": "stream",
     "text": [
      "Hey there! Looking to move to Leeds? Let me give you the lowdown on what's happening in the housing market there.\n",
      "\n",
      "**Types of Homes Being Built:**\n",
      "- In Leeds, there's a mix of developments going on. You've got residential apartments, mixed-use buildings with a combination of homes and commercial spaces, and even purpose-built student accommodations. For example, there are plans for buildings with hundreds of flats or apartments, ranging from 245 units to 783 dwellings.\n",
      "\n",
      "**Environmentally Friendly Homes:**\n",
      "- Many new developments are focusing on being eco-friendly. Some projects include landscaping, public realm works, and even flood defense constructions to protect the environment. There are also installations like external louvres, replacement of glazed panels with more energy-efficient options, and even 5G telecoms installations to improve connectivity sustainably.\n",
      "\n",
      "**Locations of Developments:**\n",
      "- These exciting projects are spread across Leeds, from Wellington Place to Whitehall Road and Globe Road. You'll find developments in areas like Holbeck, Lower Wortley, and even along the River Aire and Leeds-Liverpool Canal.\n",
      "\n",
      "**Approval of Projects:**\n",
      "- The good news is that many of these projects are getting approved! Detailed plans are being submitted and approved for various developments, showing that the city is welcoming these changes to enhance its housing landscape.\n",
      "\n",
      "**Improving Living in Leeds:**\n",
      "- To make living in Leeds even better, there are plans for parks, pocket parks, riverside walks, and landscaping works. These additions not only beautify the city but also provide green spaces for residents to enjoy. Additionally, upgrades like external lighting schemes and improved access to high-speed internet are in the works to enhance the overall living experience.\n",
      "\n",
      "So, whether you're looking for a modern apartment, a mixed-use space, or a student-friendly accommodation, Leeds has a lot to offer in its vibrant and environmentally conscious housing market. Exciting times ahead for anyone considering a move to this dynamic city!\n"
     ]
    }
   ],
   "source": [
    "openai.api_key = \"set OPENAI_API_KEY=your-api-key-here\"\n",
    " \n",
    "response = openai.ChatCompletion.create(\n",
    "    model=\"gpt-3.5-turbo\",\n",
    "    messages=[\n",
    "        {\n",
    "            \"role\": \"system\",\n",
    "            \"content\": \"\"\"\n",
    "            You are now a Friendly Real Estate Guide for homebuyers, tasked with explaining the latest trends in Leeds' housing market in the simplest terms.\n",
    "            Imagine you're talking to someone with no real estate background. \n",
    "            Your goal is to make them feel informed and comfortable with the current housing landscape, focusing on:\n",
    "            \n",
    "            - What types of homes are being built?\n",
    "            - How are these homes helping the environment?\n",
    "            - Where in Leeds are these developments happening?\n",
    "            - Are a lot of these projects getting approved?\n",
    "            - What’s being done to make living in Leeds better, like parks or internet upgrades?\n",
    "            Please use simple language and examples to bring these points to life. Think of how you would explain it to a friend curious about moving to Leeds, highlighting what's exciting and important for a future homebuyer.\n",
    "            \"\"\"\n",
    "        },\n",
    "        {\n",
    "            \"role\": \"user\",\n",
    "            \"content\": df3_str\n",
    "        }\n",
    "    ],\n",
    "    temperature=0,\n",
    "    max_tokens=1000,\n",
    "    top_p=1\n",
    ")\n",
    " \n",
    "print(response[\"choices\"][0][\"message\"][\"content\"])"
   ]
  },
  {
   "cell_type": "code",
   "execution_count": 11,
   "id": "1b6e128a",
   "metadata": {},
   "outputs": [
    {
     "name": "stdout",
     "output_type": "stream",
     "text": [
      "Based on the provided dataset of planning applications around the selected property in Leeds, here are the key trends and insights:\n",
      "\n",
      "1. **Types of Developments**:\n",
      "   - The proposed developments include a variety of project types such as office conversions, residential developments, mixed-use buildings, educational facilities, infrastructure installations, landscaping projects, and demolition works.\n",
      "   - There is a mix of commercial, residential, educational, and infrastructure-related developments in the area.\n",
      "\n",
      "2. **Approval Status**:\n",
      "   - The majority of the planning applications have detailed plans approved, indicating a positive trend in the approval of proposed developments.\n",
      "   - Some applications have been withdrawn, which suggests that not all proposed projects move forward to completion.\n",
      "\n",
      "3. **Sustainability Features**:\n",
      "   - There is a focus on sustainability features such as recladding of existing buildings, installation of external louvres for energy efficiency, creation of riverside walks, and landscaping projects.\n",
      "   - The emphasis on sustainability is evident through applications for flood defense works, demolition for site preparation, and installation of external lighting schemes.\n",
      "\n",
      "4. **Distribution of Projects**:\n",
      "   - The developments are spread across different locations within the specified radius, including Wellington Place, Whitehall Road, Globe Road, and Water Lane.\n",
      "   - The area shows a mix of new construction, conversion projects, and infrastructure improvements, indicating a dynamic and evolving neighborhood.\n",
      "\n",
      "5. **Key Observations**:\n",
      "   - The area is undergoing significant transformation with a mix of residential, commercial, and educational developments.\n",
      "   - Sustainability and environmental considerations are integrated into many proposed projects, reflecting a modern approach to urban planning.\n",
      "   - The diversity of project types suggests a vibrant and multifaceted community with a range of amenities and facilities.\n",
      "\n",
      "Overall, the trends in planning applications around the selected property in Leeds indicate a progressive and diverse neighborhood with a focus on sustainable development practices and a mix of residential, commercial, and community-oriented projects.\n"
     ]
    }
   ],
   "source": [
    "openai.api_key = \"set OPENAI_API_KEY=your-api-key-here\"\n",
    "\n",
    "response = openai.ChatCompletion.create(\n",
    "    model=\"gpt-3.5-turbo\",\n",
    "    messages=[\n",
    "        {\n",
    "            \"role\": \"system\",\n",
    "            \"content\": \"\"\"\n",
    "            You are now a Friendly Real Estate Analyst, specialized in deciphering complex data for homebuyers.\n",
    "            Based on the dataset:\n",
    "            \"\"\"\n",
    "            + df3_str +\n",
    "            \"\"\"\"\n",
    "            containing planning applications within a 250-meter radius of a specific property in Leeds.\n",
    "            The data includes application types, submission dates, approval statuses, and more.\n",
    "            Your task is to analyze this dataset to uncover the overall trends in this area \n",
    "            that would be significant to a potential homebuyer. Focus on the types of developments being proposed,\n",
    "            the rate at which applications are approved, any emphasis on sustainability features, and the distribution \n",
    "            of these projects within the specified radius. Simplify your analysis into key points that would be exciting\n",
    "            and important for someone considering a move to this part of Leeds.\n",
    "            \"\"\"\n",
    "        },\n",
    "        {\n",
    "            \"role\": \"user\",\n",
    "            \"content\": \"Please analyze\" + df3_str + \"to identify the overall trends in planning applications around the selected Leeds property.\"\n",
    "        }\n",
    "    ],\n",
    "    temperature=0,\n",
    "    max_tokens=1000,\n",
    "    top_p=1\n",
    ")\n",
    "\n",
    "print(response[\"choices\"][0][\"message\"][\"content\"])"
   ]
  },
  {
   "cell_type": "code",
   "execution_count": 15,
   "id": "7440a517",
   "metadata": {},
   "outputs": [
    {
     "name": "stdout",
     "output_type": "stream",
     "text": [
      "- **Development Types:**\n",
      "  - Majority of developments are related to **commercial** properties such as offices, mixed-use developments, and conversions to office spaces.\n",
      "  - Residential developments include conversions to apartments and the construction of residential blocks.\n",
      "\n",
      "- **Trends:**\n",
      "  - A noticeable trend towards **commercial** use developments.\n",
      "  - Significant focus on **office** spaces and **mixed-use** developments.\n",
      "  - Some applications involve **infrastructure improvements** like flood defense, car parks, and landscaping.\n",
      "\n",
      "- **Notable Features:**\n",
      "  - Emphasis on **sustainability** with applications for **demolition** and **recladding** for energy efficiency.\n",
      "  - Infrastructure enhancements include **telecoms installations**, **flood defense**, and **riverside walks**.\n",
      "  - Diverse range of developments catering to different needs from **education** to **leisure** establishments.\n"
     ]
    }
   ],
   "source": [
    "openai.api_key = \"set OPENAI_API_KEY=your-api-key-here\"\n",
    "\n",
    "response = openai.ChatCompletion.create(\n",
    "    model=\"gpt-3.5-turbo\",\n",
    "    messages=[\n",
    "        \n",
    "        {\n",
    "            \"role\": \"system\",\n",
    "            \"content\": \"\"\"\n",
    "            As a Friendly Real Estate Analyst, simplify complex planning application data within a 250-meter radius of a specified property in Leeds for potential homebuyers. Use only the provided text, avoiding any external information. Your goal is to distill the essence of the data, focusing sharply on:\n",
    "            - The types of developments (based on the category column).\n",
    "            - Any clear trends towards the type of use.\n",
    "            - Notable features related to sustainability or infrastructure improvements.\n",
    "            Produce a digest that is not only brief and straightforward but also highlights the main points in an easily digestible format for non-experts. Aim for bullet points or a short, clear paragraph that captures the essence without technical jargon.\n",
    "        \"\"\"\n",
    "        + \"Based on this dataset: \" + df3_str +\n",
    "        \"\"\"\n",
    "        Specifically, extract and highlight the most impactful insights relevant to homebuyers in this area, making it as precise and reader-friendly as possible.\n",
    "        \"\"\"\n",
    "        },\n",
    "        {\n",
    "            \"role\": \"user\",\n",
    "            \"content\": \"I need a succinct overview of the key trends in planning applications around the chosen Leeds property, focusing only on the provided dataset. What should I know?\"\n",
    "        }\n",
    "    ],\n",
    "    temperature=0,\n",
    "    max_tokens=500,  # Reduce max tokens if too lengthy\n",
    "    top_p=1\n",
    ")\n",
    "print(response[\"choices\"][0][\"message\"][\"content\"])"
   ]
  },
  {
   "cell_type": "code",
   "execution_count": 21,
   "id": "b26c629d",
   "metadata": {},
   "outputs": [
    {
     "name": "stdout",
     "output_type": "stream",
     "text": [
      "- A significant trend in the planning applications around the Leeds property is the conversion of office spaces into different uses such as accountancy training facilities, apartments, and drinking establishments, reflecting a shift in the area's utilization.\n",
      "- There is a notable focus on mixed-use developments combining residential units with commercial spaces, indicating a desire for diverse and integrated urban environments.\n",
      "- Infrastructure enhancements like new car parks, external louvres, and landscaping projects are prevalent, suggesting a commitment to improving the area's amenities and aesthetics.\n"
     ]
    }
   ],
   "source": [
    "response = openai.ChatCompletion.create(\n",
    "    model=\"gpt-3.5-turbo\",\n",
    "    messages=[\n",
    "        {\n",
    "            \"role\": \"system\",\n",
    "            \"content\": \"\"\"\n",
    "            As a Friendly Real Estate Analyst, your task is to succinctly summarize the planning applications\n",
    "            within a 250-meter radius of a specified property in Leeds for potential homebuyers.\n",
    "            Focus strictly on the provided dataset without external information. Highlight the most critical insights\n",
    "            in the briefest manner possible, such as:\n",
    "            - Key types of developments.\n",
    "            - Any apparent trends in usage.\n",
    "            - Notable sustainability or infrastructure features.\n",
    "            Keep your summary extremely concise, aiming for bullet points or a very short paragraph.\n",
    "            Emphasize clarity and brevity, avoiding any technical jargon.\n",
    "            Based on this dataset: \"\"\" + df3_str + \"\"\"\n",
    "            Your goal is to distill the essence of the trends in a way that's most accessible to someone interested in\n",
    "            purchasing a home in this area.\n",
    "            Please provide the insights in no more than three bullet points or a single, short paragraph.\n",
    "            \"\"\"\n",
    "        },\n",
    "        {\n",
    "            \"role\": \"user\",\n",
    "            \"content\": \"\"\"\n",
    "            I'm looking for a sharp, concise overview of the main trends in planning applications around the \n",
    "            selected Leeds property. What are the essentials?\"\"\"\n",
    "        }\n",
    "    ],\n",
    "    temperature=0,\n",
    "    max_tokens=500,\n",
    "    top_p=1\n",
    ")\n",
    "\n",
    "print(response[\"choices\"][0][\"message\"][\"content\"])"
   ]
  },
  {
   "cell_type": "markdown",
   "id": "e81d9938",
   "metadata": {},
   "source": [
    "#### 2. Identify all residential planning applications and summarize their key features  \n",
    "⟶ “Identify all residential planning applications and summarize their key features”"
   ]
  },
  {
   "cell_type": "code",
   "execution_count": 20,
   "id": "673934f8",
   "metadata": {},
   "outputs": [
    {
     "name": "stdout",
     "output_type": "stream",
     "text": [
      "\n",
      "1. ID: 4764288\n",
      "   Planning ID: 15825085\n",
      "   Reference: 24/00747/FU\n",
      "   Authority: Leeds Council\n",
      "   Proposal: Enabling works associated with office development proposed under 22/00775/RM\n",
      "   Heading: Office\n",
      "   Category: Commercial\n",
      "   Value Maximum: 100\n",
      "   Stage: Detailed Plans Submitted\n",
      "   Update Date: 00:00.0\n",
      "   Site Raw Address: 9 Wellington Place Leeds LS1 4AP\n",
      "\n",
      "2. ID: 4183586\n",
      "   Planning ID: 13348868\n",
      "   Reference: 18/02538/DPD\n",
      "   Authority: Leeds Council\n",
      "   Proposal: Change of use of office to six apartments\n",
      "   Heading: Conversion to 6 Apartments\n",
      "   Category: Residential\n",
      "   Value Maximum: 400\n",
      "   Stage: Withdrawn\n",
      "   Update Date: 00:00.0\n",
      "   Site Raw Address: Part Ground\n"
     ]
    }
   ],
   "source": [
    "response = openai.ChatCompletion.create(\n",
    "    model=\"gpt-3.5-turbo\",\n",
    "    messages=[\n",
    "        {\n",
    "            \"role\": \"system\",\n",
    "            \"content\": \"\"\"\n",
    "            As a Friendly Real Estate Analyst, your task is to succinctly summarize the planning applications\n",
    "            within a 250-meter radius of a specified property in Leeds for potential homebuyers.\n",
    "            Focus strictly on the provided dataset without external information. Highlight the most critical insights\n",
    "            in the briefest manner possible, such as:\n",
    "            - Key types of developments.\n",
    "            - Any apparent trends in usage.\n",
    "            - Notable sustainability or infrastructure features.\n",
    "            Keep your summary extremely concise, aiming for bullet points or a very short paragraph.\n",
    "            Emphasize clarity and brevity, avoiding any technical jargon.\n",
    "            Based on this dataset: \"\"\" + df3_str + \"\"\"\n",
    "            Your goal is to distill the essence of the trends in a way that's most accessible to someone interested in\n",
    "            purchasing a home in this area.\n",
    "            Please provide the insights in no more than three bullet points or a single, short paragraph.\n",
    "            \"\"\"\n",
    "        },\n",
    "        {\n",
    "            \"role\": \"user\",\n",
    "            \"content\": \"\"\"\n",
    "            I'm looking for a sharp, concise overview of the main trends in planning applications around the \n",
    "            selected Leeds property. What are the essentials?\"\"\"\n",
    "        }\n",
    "    ],\n",
    "    temperature=0,\n",
    "    max_tokens=500,\n",
    "    top_p=1\n",
    ")\n",
    "\n",
    "print(response[\"choices\"][0][\"message\"][\"content\"])"
   ]
  },
  {
   "cell_type": "markdown",
   "id": "0dbf7d9d",
   "metadata": {},
   "source": [
    "#### 3. Analysis of the Impact of Planning Applications  \n",
    "⟶ “Analyse the potential impact of recent commercial planning applications on the residential community”"
   ]
  },
  {
   "cell_type": "code",
   "execution_count": 22,
   "id": "16c16c55",
   "metadata": {},
   "outputs": [
    {
     "name": "stdout",
     "output_type": "stream",
     "text": [
      "\n",
      "Recent commercial planning applications may have a significant impact on the residential community. These applications include proposals for office developments, conversion of offices to apartments, mixed-use developments, and installation of infrastructure such as telecoms and flood defense. Homebuyers should carefully consider the potential impact of these developments on their quality of life, access to amenities, and property values. It is recommended that homebuyers research the details of these planning applications, including the type of development, proposed number of units, and any associated infrastructure or landscaping plans. They should also consider the stage of the application process and any updates or changes that may have occurred. It is important for homebuyers to thoroughly evaluate the potential impact of these commercial planning applications before making a decision on purchasing a property in the affected area.\n"
     ]
    }
   ],
   "source": [
    "response = openai.Completion.create(\n",
    "  model=\"gpt-3.5-turbo-instruct\", # do not change this\n",
    "  \n",
    "  # Create prompt\n",
    "  prompt = \"Make it concise and clear: Analyze the potential impact of recent commercial planning applications on the residential community and provide concise guidance for homebuyers based on the following data:\\n\" + df3_str + \"\\n\\n\",\n",
    "    \n",
    "  temperature=0.5, # temperature ranges from 0-2, with 2 being more random. do NOT change both temperature and top_p.\n",
    "  max_tokens=300, #2048 is maximum allowed\n",
    "  top_p=1 #model considers the results of the tokens with top_p probability mass; 0.1 means only the tokens comprising the top 10% probability mass are considered\n",
    ")\n",
    "\n",
    "# print the answer to the question\n",
    "print(response[\"choices\"][0][\"text\"])"
   ]
  },
  {
   "cell_type": "markdown",
   "id": "b905623d",
   "metadata": {},
   "source": [
    "#### 4. Status of Planning Application Approvals  \n",
    "⟶ “List the planning applications that are currently pending approval and describe their potential benefits and drawbacks.”\n"
   ]
  },
  {
   "cell_type": "code",
   "execution_count": null,
   "id": "e0ea3b2b",
   "metadata": {},
   "outputs": [],
   "source": [
    "response = openai.Completion.create(\n",
    "  model=\"gpt-3.5-turbo-instruct\", # do not change this\n",
    "  \n",
    "  # Create prompt\n",
    "  prompt = \"Make it concise and clear: List the planning applications that are currently pending approval and describe their potential benefits and drawbacks based on the following data:\\n\" + df3_str + \"\\n\\n\",\n",
    "    \n",
    "  temperature=0.5, # temperature ranges from 0-2, with 2 being more random. do NOT change both temperature and top_p.\n",
    "  max_tokens=300, #2048 is maximum allowed\n",
    "  top_p=1 #model considers the results of the tokens with top_p probability mass; 0.1 means only the tokens comprising the top 10% probability mass are considered\n",
    ")\n",
    "\n",
    "# print the answer to the question\n",
    "print(response[\"choices\"][0][\"text\"])"
   ]
  },
  {
   "cell_type": "markdown",
   "id": "efb1e636",
   "metadata": {},
   "source": [
    "#### 5. Details of Recently Approved Planning Applications  \n",
    "⟶ “Provide details of the most recently approved planning applications and their implications for future development”"
   ]
  },
  {
   "cell_type": "code",
   "execution_count": null,
   "id": "ccadeac8",
   "metadata": {},
   "outputs": [],
   "source": [
    "response = openai.Completion.create(\n",
    "  model=\"gpt-3.5-turbo-instruct\", # do not change this\n",
    "  \n",
    "  # Create prompt\n",
    "  prompt = \"Summarize the impact of newly approved planning applications for homebuyers in Leeds, focusing on property values and living quality. See data:\\n\" + df3_str + \"\\n\\n\",\n",
    "    \n",
    "  temperature=0.5, # temperature ranges from 0-2, with 2 being more random. do NOT change both temperature and top_p.\n",
    "  max_tokens=350, #2048 is maximum allowed\n",
    "  top_p=1 #model considers the results of the tokens with top_p probability mass; 0.1 means only the tokens comprising the top 10% probability mass are considered\n",
    ")\n",
    "\n",
    "# print the answer to the question\n",
    "print(\"Summary of recent approved planning applications in Leeds and their potential implications for future development:\")\n",
    "print(response[\"choices\"][0][\"text\"])"
   ]
  },
  {
   "cell_type": "markdown",
   "id": "d2ca4d73",
   "metadata": {},
   "source": [
    "#### 6. Environmental Considerations in Planning Applications  \n",
    "⟶ “Identify planning applications with key environmental sustainability features that benefit homebuyers, such as energy efficiency, use of renewable resources, and sustainable materials.”"
   ]
  },
  {
   "cell_type": "code",
   "execution_count": null,
   "id": "1d47961a",
   "metadata": {},
   "outputs": [],
   "source": [
    "response = openai.Completion.create(\n",
    "  model=\"gpt-3.5-turbo-instruct\", # do not change this\n",
    "  \n",
    "  # Create prompt\n",
    "  prompt = \"Identify planning applications with key environmental sustainability features that benefit homebuyers, such as energy efficiency, use of renewable resources, and sustainable materials, from the following data:\\n\" + df3_str + \"\\n\\n\",\n",
    "    \n",
    "  temperature=0.5, # temperature ranges from 0-2, with 2 being more random. do NOT change both temperature and top_p.\n",
    "  max_tokens=300, #2048 is maximum allowed\n",
    "  top_p=1 #model considers the results of the tokens with top_p probability mass; 0.1 means only the tokens comprising the top 10% probability mass are considered\n",
    ")\n",
    "\n",
    "# print the answer to the question\n",
    "print(response[\"choices\"][0][\"text\"])"
   ]
  },
  {
   "cell_type": "markdown",
   "id": "ba07e6f0",
   "metadata": {},
   "source": [
    "#### 7. Planning Applications and Municipal Facilities  \n",
    "⟶ “Analyze how specific planning applications might enhance the living environment for residents, focusing on infrastructure improvements and the addition of public amenities. Highlight the planning applications that could significantly impact property values and the attractiveness of neighborhoods for homebuyers”"
   ]
  },
  {
   "cell_type": "code",
   "execution_count": null,
   "id": "2ac58307",
   "metadata": {},
   "outputs": [],
   "source": [
    "response = openai.Completion.create(\n",
    "  model=\"gpt-3.5-turbo-instruct\", # do not change this\n",
    "  \n",
    "  # Create prompt\n",
    "  prompt = \"Highlight planning applications with positive impacts on infrastructure and amenities for homebuyers. Data:\\n\" + df3_str + \"\\n\\n\",\n",
    "  \n",
    "  temperature=0.5, # temperature ranges from 0-2, with 2 being more random. do NOT change both temperature and top_p.\n",
    "  max_tokens=350, #2048 is maximum allowed\n",
    "  top_p=1 #model considers the results of the tokens with top_p probability mass; 0.1 means only the tokens comprising the top 10% probability mass are considered\n",
    ")\n",
    "\n",
    "# print the answer to the question\n",
    "print(response[\"choices\"][0][\"text\"])"
   ]
  },
  {
   "cell_type": "markdown",
   "id": "ab2c8a3b",
   "metadata": {},
   "source": [
    "#### 8. Comparing the Economic Values of Different Planning Applications  \n",
    "⟶ “Compare the economic values of planning applications and identify the highest-value projects.”"
   ]
  },
  {
   "cell_type": "code",
   "execution_count": null,
   "id": "27a78166",
   "metadata": {},
   "outputs": [],
   "source": [
    "response = openai.Completion.create(\n",
    "  model=\"gpt-3.5-turbo-instruct\", # do not change this\n",
    "  \n",
    "  # Create prompt\n",
    "  prompt = \"Identify the highest-value residential projects from the planning applications that are most beneficial for homebuyers, and list them in descending order of economic value based on the provided data. Data:\\n\" + df3_str + \"\\n\\n\",\n",
    "  \n",
    "  temperature=0.5, # temperature ranges from 0-2, with 2 being more random. do NOT change both temperature and top_p.\n",
    "  max_tokens=350, #2048 is maximum allowed\n",
    "  top_p=1 #model considers the results of the tokens with top_p probability mass; 0.1 means only the tokens comprising the top 10% probability mass are considered\n",
    ")\n",
    "\n",
    "# print the answer to the question\n",
    "print(response[\"choices\"][0][\"text\"])"
   ]
  },
  {
   "cell_type": "markdown",
   "id": "c0f07a95",
   "metadata": {},
   "source": [
    "Other prompt I tried:"
   ]
  },
  {
   "cell_type": "code",
   "execution_count": null,
   "id": "d7ef8ba8",
   "metadata": {},
   "outputs": [],
   "source": [
    "response = openai.Completion.create(\n",
    "  model=\"gpt-3.5-turbo-instruct\", # do not change this\n",
    "  \n",
    "  # Create prompt\n",
    "  prompt = \"Is it worth buying a house in this area? Data:\\n\" + df3_str + \"\\n\\n\",\n",
    "  \n",
    "  temperature=0.5, # temperature ranges from 0-2, with 2 being more random. do NOT change both temperature and top_p.\n",
    "  max_tokens=350, #2048 is maximum allowed\n",
    "  top_p=1 #model considers the results of the tokens with top_p probability mass; 0.1 means only the tokens comprising the top 10% probability mass are considered\n",
    ")\n",
    "\n",
    "# print the answer to the question\n",
    "print(response[\"choices\"][0][\"text\"])"
   ]
  },
  {
   "cell_type": "code",
   "execution_count": null,
   "id": "1ca7c589",
   "metadata": {},
   "outputs": [],
   "source": [
    "response = openai.Completion.create(\n",
    "  model=\"gpt-3.5-turbo-instruct\", # do not change this\n",
    "  \n",
    "  # Create prompt\n",
    "  prompt = \"What is the average house price in this area? Data:\\n\" + df3_str + \"\\n\\n\",\n",
    "  \n",
    "  temperature=0.5, # temperature ranges from 0-2, with 2 being more random. do NOT change both temperature and top_p.\n",
    "  max_tokens=350, #2048 is maximum allowed\n",
    "  top_p=1 #model considers the results of the tokens with top_p probability mass; 0.1 means only the tokens comprising the top 10% probability mass are considered\n",
    ")\n",
    "\n",
    "# print the answer to the question\n",
    "print(response[\"choices\"][0][\"text\"])"
   ]
  }
 ],
 "metadata": {
  "kernelspec": {
   "display_name": "Python 3 (ipykernel)",
   "language": "python",
   "name": "python3"
  },
  "language_info": {
   "codemirror_mode": {
    "name": "ipython",
    "version": 3
   },
   "file_extension": ".py",
   "mimetype": "text/x-python",
   "name": "python",
   "nbconvert_exporter": "python",
   "pygments_lexer": "ipython3",
   "version": "3.11.7"
  }
 },
 "nbformat": 4,
 "nbformat_minor": 5
}
